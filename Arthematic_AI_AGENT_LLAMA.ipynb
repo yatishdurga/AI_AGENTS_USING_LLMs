{
  "nbformat": 4,
  "nbformat_minor": 0,
  "metadata": {
    "colab": {
      "provenance": []
    },
    "kernelspec": {
      "name": "python3",
      "display_name": "Python 3"
    },
    "language_info": {
      "name": "python"
    }
  },
  "cells": [
    {
      "cell_type": "code",
      "execution_count": 2,
      "metadata": {
        "colab": {
          "base_uri": "https://localhost:8080/"
        },
        "collapsed": true,
        "id": "upgn_CKxM9oD",
        "outputId": "80a07fa1-42cd-494c-eb90-f96a2ed038e2"
      },
      "outputs": [
        {
          "output_type": "stream",
          "name": "stdout",
          "text": [
            "Installing collected packages: striprtf, filetype, dirtyjson, python-dotenv, pypdf, mypy-extensions, marshmallow, colorama, typing-inspect, tiktoken, griffe, llama-cloud, dataclasses-json, banks, llama-index-core, llama-index-readers-file, llama-index-llms-openai, llama-index-indices-managed-llama-cloud, llama-index-embeddings-openai, llama-cloud-services, llama-parse, llama-index-multi-modal-llms-openai, llama-index-llms-openai-like, llama-index-cli, llama-index-agent-openai, llama-index-readers-llama-parse, llama-index-program-openai, llama-index-llms-groq, llama-index-question-gen-openai, llama-index\n",
            "Successfully installed banks-2.1.1 colorama-0.4.6 dataclasses-json-0.6.7 dirtyjson-1.0.8 filetype-1.2.0 griffe-1.7.2 llama-cloud-0.1.18 llama-cloud-services-0.6.12 llama-index-0.12.31 llama-index-agent-openai-0.4.6 llama-index-cli-0.4.1 llama-index-core-0.12.31 llama-index-embeddings-openai-0.3.1 llama-index-indices-managed-llama-cloud-0.6.11 llama-index-llms-groq-0.3.1 llama-index-llms-openai-0.3.37 llama-index-llms-openai-like-0.3.4 llama-index-multi-modal-llms-openai-0.4.3 llama-index-program-openai-0.3.1 llama-index-question-gen-openai-0.3.0 llama-index-readers-file-0.4.7 llama-index-readers-llama-parse-0.4.0 llama-parse-0.6.12 marshmallow-3.26.1 mypy-extensions-1.0.0 pypdf-5.4.0 python-dotenv-1.1.0 striprtf-0.0.26 tiktoken-0.9.0 typing-inspect-0.9.0\n"
          ]
        }
      ],
      "source": [
        "!pip install llama-index llama-index-llms-groq"
      ]
    },
    {
      "cell_type": "markdown",
      "source": [
        "**Importing the dependencies**"
      ],
      "metadata": {
        "id": "gb5SJkZ4NrcS"
      }
    },
    {
      "cell_type": "code",
      "source": [
        "import os\n",
        "from llama_index.core.agent import ReActAgent\n",
        "from llama_index.llms.groq import Groq\n",
        "from llama_index.core.tools import FunctionTool"
      ],
      "metadata": {
        "id": "ldKgDBAPNrLG"
      },
      "execution_count": 8,
      "outputs": []
    },
    {
      "cell_type": "markdown",
      "source": [
        "**Loading Groq LLM**"
      ],
      "metadata": {
        "id": "zOuv3QcVOb5E"
      }
    },
    {
      "cell_type": "code",
      "source": [
        "os.environ[\"GROQ_API_KEY\"]=\"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\""
      ],
      "metadata": {
        "id": "7-eVYu1IWeFI"
      },
      "execution_count": 10,
      "outputs": []
    },
    {
      "cell_type": "code",
      "source": [
        "llm=Groq(\n",
        "    model=\"llama-3.1-8b-instant\",\n",
        "    temperature=0\n",
        ")"
      ],
      "metadata": {
        "id": "pjQTYjWBWrXI"
      },
      "execution_count": 11,
      "outputs": []
    },
    {
      "cell_type": "markdown",
      "source": [
        "**Creating Basic Arthematic Tools**"
      ],
      "metadata": {
        "id": "OttMfF6KXQM7"
      }
    },
    {
      "cell_type": "code",
      "source": [
        "def add(a:float,b:float)->float:\n",
        "  \"Add the two numbers and return the sum\"\n",
        "  return a+b\n",
        "def subtract(a:float,b:float)->float:\n",
        "  \"Subtract second number from first number and return the result\"\n",
        "  return a-b\n",
        "def multiply(a:float,b:float)->float:\n",
        "  \"multiply two numbers and return the result\"\n",
        "  return a*b\n",
        "def divide(a:float,b:float)->float:\n",
        "  \"divide first number by second number and return the result\"\n",
        "  return a/b"
      ],
      "metadata": {
        "id": "TediUX07XJcH"
      },
      "execution_count": 12,
      "outputs": []
    },
    {
      "cell_type": "code",
      "source": [
        "add_tool=FunctionTool.from_defaults(fn=add)\n",
        "subtract_tool=FunctionTool.from_defaults(fn=subtract)\n",
        "multiply_tool=FunctionTool.from_defaults(fn=multiply)\n",
        "divide_tool=FunctionTool.from_defaults(fn=divide)"
      ],
      "metadata": {
        "id": "Pl-n7VU8YMW-"
      },
      "execution_count": 13,
      "outputs": []
    },
    {
      "cell_type": "code",
      "source": [
        "tool_list=[add_tool,subtract_tool,multiply_tool,divide_tool]"
      ],
      "metadata": {
        "id": "VFaVnltxYy4I"
      },
      "execution_count": 14,
      "outputs": []
    },
    {
      "cell_type": "markdown",
      "source": [
        "**Creating** **Agent**"
      ],
      "metadata": {
        "id": "kP1OaOJ3ZXWt"
      }
    },
    {
      "cell_type": "code",
      "source": [
        "agent=ReActAgent.from_tools(\n",
        "    tools=tool_list,\n",
        "    llm=llm,\n",
        "    verbose=True\n",
        ")"
      ],
      "metadata": {
        "id": "09_dAMjrZAUl"
      },
      "execution_count": 16,
      "outputs": []
    },
    {
      "cell_type": "markdown",
      "source": [
        "**Agent is Action**"
      ],
      "metadata": {
        "id": "hE1vOZmGZaqt"
      }
    },
    {
      "cell_type": "code",
      "source": [
        "response=agent.chat(\"what is 3  plus 18?\")"
      ],
      "metadata": {
        "colab": {
          "base_uri": "https://localhost:8080/"
        },
        "id": "6-hJ7g8TZSy9",
        "outputId": "850f6b57-4455-48e1-98d4-eb3ab1dda4f5"
      },
      "execution_count": 17,
      "outputs": [
        {
          "output_type": "stream",
          "name": "stdout",
          "text": [
            "> Running step 48b4bfa5-8254-4258-a204-a6cfc9f36acf. Step input: what is 3  plus 18?\n",
            "\u001b[1;3;38;5;200mThought: The current language of the user is: English. I need to use a tool to help me answer the question.\n",
            "Action: add\n",
            "Action Input: {'a': 3, 'b': 18}\n",
            "\u001b[0m\u001b[1;3;34mObservation: 21\n",
            "\u001b[0m> Running step 58534ffc-4531-450c-bdbd-7485a4f08f44. Step input: None\n",
            "\u001b[1;3;38;5;200mThought: I can answer without using any more tools. I'll use the user's language to answer\n",
            "Answer: The result of 3 plus 18 is 21.\n",
            "\u001b[0m"
          ]
        }
      ]
    },
    {
      "cell_type": "code",
      "source": [
        "response"
      ],
      "metadata": {
        "colab": {
          "base_uri": "https://localhost:8080/"
        },
        "id": "kbk30_UXZ0ld",
        "outputId": "f8928989-93cc-48fe-e219-717ab17cdf73"
      },
      "execution_count": 18,
      "outputs": [
        {
          "output_type": "execute_result",
          "data": {
            "text/plain": [
              "AgentChatResponse(response='The result of 3 plus 18 is 21.', sources=[ToolOutput(content='21', tool_name='add', raw_input={'args': (), 'kwargs': {'a': 3, 'b': 18}}, raw_output=21, is_error=False)], source_nodes=[], is_dummy_stream=False, metadata=None)"
            ]
          },
          "metadata": {},
          "execution_count": 18
        }
      ]
    },
    {
      "cell_type": "code",
      "source": [
        "print(response.response)"
      ],
      "metadata": {
        "colab": {
          "base_uri": "https://localhost:8080/"
        },
        "id": "G2lP7H9YaClm",
        "outputId": "a963a3e4-b3e8-47bb-bef0-67f6d3d5de83"
      },
      "execution_count": 19,
      "outputs": [
        {
          "output_type": "stream",
          "name": "stdout",
          "text": [
            "The result of 3 plus 18 is 21.\n"
          ]
        }
      ]
    },
    {
      "cell_type": "code",
      "source": [
        "raw_output_value=response.sources[0].raw_output\n",
        "print(raw_output_value)"
      ],
      "metadata": {
        "colab": {
          "base_uri": "https://localhost:8080/"
        },
        "id": "vu6KNESHaK7-",
        "outputId": "3ebad34e-3552-4301-d16d-fa986558b523"
      },
      "execution_count": 24,
      "outputs": [
        {
          "output_type": "stream",
          "name": "stdout",
          "text": [
            "21\n"
          ]
        }
      ]
    },
    {
      "cell_type": "code",
      "source": [
        "response=agent.chat(\"what is 34+(339-3242+9039*12)? use tools to calculate every step\")"
      ],
      "metadata": {
        "colab": {
          "base_uri": "https://localhost:8080/"
        },
        "id": "a_-gurn5aX4g",
        "outputId": "65eab751-b5fb-4be6-ba9e-769edc6463e8"
      },
      "execution_count": 27,
      "outputs": [
        {
          "output_type": "stream",
          "name": "stdout",
          "text": [
            "> Running step 42a80198-3151-419d-80b3-e2a81c3875c5. Step input: what is 34+(339-3242+9039*12)? use tools to calculate every step\n",
            "\u001b[1;3;38;5;200mThought: The current language of the user is: English. I need to use a tool to help me answer the question.\n",
            "Action: multiply\n",
            "Action Input: {'a': 9039, 'b': 12}\n",
            "\u001b[0m\u001b[1;3;34mObservation: 108468\n",
            "\u001b[0m> Running step 8d899bb0-462b-4283-9441-e20302d85d09. Step input: None\n",
            "\u001b[1;3;38;5;200mThought: I need to continue using tools to help me answer the question.\n",
            "Action: add\n",
            "Action Input: {'a': 108468, 'b': -3242}\n",
            "\u001b[0m\u001b[1;3;34mObservation: 105226\n",
            "\u001b[0m> Running step 01a708e7-c018-4348-b7ec-7a1847316847. Step input: None\n",
            "\u001b[1;3;38;5;200mThought: I need to continue using tools to help me answer the question.\n",
            "Action: add\n",
            "Action Input: {'a': 105226, 'b': 339}\n",
            "\u001b[0m\u001b[1;3;34mObservation: 105565\n",
            "\u001b[0m> Running step 8b99cc86-c6dd-4c0c-ab7a-a2cf2cf727b6. Step input: None\n",
            "\u001b[1;3;38;5;200mThought: I need to continue using tools to help me answer the question.\n",
            "Action: add\n",
            "Action Input: {'a': 105565, 'b': 34}\n",
            "\u001b[0m\u001b[1;3;34mObservation: 105599\n",
            "\u001b[0m> Running step 18cd8dd7-dac1-4b8b-b912-f8bd5f426ed1. Step input: None\n",
            "\u001b[1;3;38;5;200mThought: I can answer without using any more tools. I'll use the user's language to answer\n",
            "Answer: The result of 34+(339-3242+9039*12) is 105599.\n",
            "\u001b[0m"
          ]
        }
      ]
    }
  ]
}